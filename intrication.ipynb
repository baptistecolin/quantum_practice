{
 "cells": [
  {
   "cell_type": "code",
   "execution_count": 3,
   "metadata": {},
   "outputs": [],
   "source": [
    "from qiskit import QuantumProgram, QISKitError"
   ]
  },
  {
   "cell_type": "code",
   "execution_count": 6,
   "metadata": {},
   "outputs": [],
   "source": [
    "# Creating a QuantumProgram instance\n",
    "Q_program = QuantumProgram()"
   ]
  },
  {
   "cell_type": "code",
   "execution_count": 14,
   "metadata": {},
   "outputs": [],
   "source": [
    "try:\n",
    "    # Creating a 3-qbit quantum register\n",
    "    qr = Q_program.create_quantum_register(\"qr\", 3)\n",
    "    # Creating a 3-bits classical register\n",
    "    cr = Q_program.create_classical_register(\"cr\", 3)\n",
    "    # Creating a quantum circuit that involves the previously created registers\n",
    "    qc = Q_program.create_circuit(\"intrication\", [qr], [cr])\n",
    "    \n",
    "    # Hadamard gate on the first qbit to get some superposition\n",
    "    qc.h(qr[0])\n",
    "    # CNOT gate to intricate the first and second qbits\n",
    "    qc.cx(qr[0], qr[1])\n",
    "    # CNOT gate to intricate the second and third qbits\n",
    "    qc.cx(qr[1], qr[2])\n",
    "    \n",
    "except QISKitError as ex:\n",
    "    print(\"There was an error : {}\".format(ex))"
   ]
  },
  {
   "cell_type": "code",
   "execution_count": null,
   "metadata": {},
   "outputs": [],
   "source": []
  }
 ],
 "metadata": {
  "kernelspec": {
   "display_name": "Python 3",
   "language": "python",
   "name": "python3"
  },
  "language_info": {
   "codemirror_mode": {
    "name": "ipython",
    "version": 3
   },
   "file_extension": ".py",
   "mimetype": "text/x-python",
   "name": "python",
   "nbconvert_exporter": "python",
   "pygments_lexer": "ipython3",
   "version": "3.5.2"
  }
 },
 "nbformat": 4,
 "nbformat_minor": 2
}
