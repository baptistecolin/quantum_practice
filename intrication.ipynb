{
 "cells": [
  {
   "cell_type": "markdown",
   "metadata": {},
   "source": [
    "### Practicing with QISKit\n",
    "\n",
    "In this notebook I'm experiencing basic QISKit functionalities. I'm going to create a 3-qbit Bell State, and ensure the qbits are actualy intricated."
   ]
  },
  {
   "cell_type": "code",
   "execution_count": 3,
   "metadata": {},
   "outputs": [],
   "source": [
    "from qiskit import QuantumProgram, QISKitError"
   ]
  },
  {
   "cell_type": "code",
   "execution_count": 6,
   "metadata": {},
   "outputs": [],
   "source": [
    "# Creating a QuantumProgram instance\n",
    "Q_program = QuantumProgram()"
   ]
  },
  {
   "cell_type": "code",
   "execution_count": 18,
   "metadata": {},
   "outputs": [
    {
     "name": "stdout",
     "output_type": "stream",
     "text": [
      "COMPLETED\n",
      "{'counts': {'000': 489, '111': 535}}\n"
     ]
    }
   ],
   "source": [
    "# Performing 3-qbits intrication using a local simulator\n",
    "\n",
    "try:\n",
    "    # Creating a 3-qbit quantum register\n",
    "    qr = Q_program.create_quantum_register(\"qr\", 3)\n",
    "    # Creating a 3-bits classical register\n",
    "    cr = Q_program.create_classical_register(\"cr\", 3)\n",
    "    # Creating a quantum circuit that involves the previously created registers\n",
    "    qc = Q_program.create_circuit(\"intrication\", [qr], [cr])\n",
    "    \n",
    "    # Hadamard gate on the first qbit to get some superposition\n",
    "    qc.h(qr[0])\n",
    "    # CNOT gate to intricate the first and second qbits\n",
    "    qc.cx(qr[0], qr[1])\n",
    "    # CNOT gate to intricate the second and third qbits\n",
    "    qc.cx(qr[1], qr[2])\n",
    "    \n",
    "    # Performs the measures\n",
    "    qc.measure(qr, cr)\n",
    "    \n",
    "    # Compile and run the simulation\n",
    "    result = Q_program.execute([\"intrication\"], backend=\"local_qasm_simulator\",\n",
    "                               shots=1024)\n",
    "    \n",
    "    # Show the results\n",
    "    print(result)\n",
    "    print(result.get_data(\"intrication\"))\n",
    "    \n",
    "except QISKitError as ex:\n",
    "    print(\"There was an error : {}\".format(ex))"
   ]
  },
  {
   "cell_type": "markdown",
   "metadata": {},
   "source": [
    "##### Results\n",
    "\n",
    "The simulation yielded the following results :\n",
    "\n",
    "```\n",
    "COMPLETED\n",
    "{'counts': {'000': 489, '111': 535}}\n",
    "```\n",
    "\n",
    "Yay, the qbits are either all 0s, or all 1s, they are fully intricated ! But that was only a simulation, not actual quantum computing. Let's move on to the real deal."
   ]
  },
  {
   "cell_type": "code",
   "execution_count": null,
   "metadata": {},
   "outputs": [],
   "source": []
  }
 ],
 "metadata": {
  "kernelspec": {
   "display_name": "Python 3",
   "language": "python",
   "name": "python3"
  },
  "language_info": {
   "codemirror_mode": {
    "name": "ipython",
    "version": 3
   },
   "file_extension": ".py",
   "mimetype": "text/x-python",
   "name": "python",
   "nbconvert_exporter": "python",
   "pygments_lexer": "ipython3",
   "version": "3.5.2"
  }
 },
 "nbformat": 4,
 "nbformat_minor": 2
}
